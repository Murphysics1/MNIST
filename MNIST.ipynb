{
 "cells": [
  {
   "cell_type": "code",
   "execution_count": 1,
   "id": "09dcf416",
   "metadata": {},
   "outputs": [],
   "source": [
    "import numpy as np\n",
    "import tensorflow as tf\n",
    "import tensorflow_datasets as tfds"
   ]
  },
  {
   "cell_type": "markdown",
   "id": "c3f732b3",
   "metadata": {},
   "source": [
    "### Data"
   ]
  },
  {
   "cell_type": "code",
   "execution_count": 2,
   "id": "b59f9ced",
   "metadata": {},
   "outputs": [],
   "source": [
    "mnist_dataset, mnist_info = tfds.load(name='mnist', with_info=True, as_supervised=True)"
   ]
  },
  {
   "cell_type": "code",
   "execution_count": 3,
   "id": "939c0b2f",
   "metadata": {},
   "outputs": [],
   "source": [
    "mnist_train, mnist_test = mnist_dataset['train'], mnist_dataset['test']\n",
    "\n",
    "\n",
    "#determine the number of samples for validation (10% of the training data)\n",
    "num_validation_samples = 0.1*mnist_info.splits['train'].num_examples \n",
    "#make sure the validation sample is an integer\n",
    "num_validation_samples = tf.cast(num_validation_samples, tf.int64)\n",
    "\n",
    "num_test_samples = mnist_info.splits['test'].num_examples\n",
    "num_test_samples = tf.cast(num_test_samples, tf.int64)\n",
    "\n",
    "#turn all inputs (0-255) into floats (0-1)\n",
    "def scale(image,label):                 \n",
    "    image = tf.cast(image, tf.float32)\n",
    "    image /= 255.\n",
    "    return image, label\n",
    "\n",
    "scaled_train_and_validation_data = mnist_train.map(scale) #scale train and validation data\n",
    "\n",
    "test_data = mnist_test.map(scale) #scale test data\n",
    "\n",
    "BUFFER_SIZE = 10000\n",
    "\n",
    "#shuffle the data in BUFFER_SIZE increments\n",
    "shuffled_train_and_validation_data = scaled_train_and_validation_data.shuffle(BUFFER_SIZE)\n",
    "\n",
    "#take num_va_samples from the shuffled data as our validation set\n",
    "validation_data = shuffled_train_and_validation_data.take(num_validation_samples)\n",
    "#turn the rest of the shuffled data into a training set\n",
    "train_data = shuffled_train_and_validation_data.skip(num_validation_samples)\n",
    "\n",
    "#hyperparameter that can be adjusted\n",
    "BATCH_SIZE = 100\n",
    "\n",
    "train_data = train_data.batch(BATCH_SIZE)\n",
    "validation_data = validation_data.batch(num_validation_samples)\n",
    "test_data = test_data.batch(num_test_samples)\n",
    "\n",
    "validation_inputs, validation_targets = next(iter(validation_data))\n"
   ]
  },
  {
   "cell_type": "markdown",
   "id": "5641717b",
   "metadata": {},
   "source": [
    "### Model"
   ]
  },
  {
   "cell_type": "markdown",
   "id": "4e22ea51",
   "metadata": {},
   "source": [
    "#### Outlining the Model"
   ]
  },
  {
   "cell_type": "code",
   "execution_count": 4,
   "id": "a1ac8168",
   "metadata": {},
   "outputs": [],
   "source": [
    "input_size = 784\n",
    "output_size = 10\n",
    "hidden_layer_size = 200\n",
    "hidden_layer_size2 = 400\n",
    "\n",
    "model = tf.keras.Sequential([\n",
    "                            tf.keras.layers.Flatten(input_shape=(28,28,1)),#flatten images into a vector\n",
    "                            #tf.keras.layers.Dense(hidden_layer_size2, activation = 'relu'),#first hidden layer\n",
    "                            tf.keras.layers.Dense(hidden_layer_size2, activation = 'relu'), #second hidden layer\n",
    "                            tf.keras.layers.Dense(hidden_layer_size, activation = 'relu'), #third hidden layer\n",
    "                            tf.keras.layers.Dense(hidden_layer_size, activation = 'tanh'), #fourth hidden layer\n",
    "                            tf.keras.layers.Dense(hidden_layer_size, activation = 'sigmoid'), #fifth hidden layer\n",
    "                            tf.keras.layers.Dense(output_size, activation = 'softmax'), #outout layer                        \n",
    "                            ])"
   ]
  },
  {
   "cell_type": "markdown",
   "id": "4710f3bc",
   "metadata": {},
   "source": [
    "#### Optimizer and Loss Functions"
   ]
  },
  {
   "cell_type": "code",
   "execution_count": 5,
   "id": "f99e7bcb",
   "metadata": {},
   "outputs": [],
   "source": [
    "#custom_optimizer = tf.keras.optimizers.Adam(learning_rate=0.01)\n",
    "\n",
    "model.compile(optimizer= 'adam', loss = 'sparse_categorical_crossentropy', metrics=['accuracy'])"
   ]
  },
  {
   "cell_type": "markdown",
   "id": "005c8617",
   "metadata": {},
   "source": [
    "#### Training"
   ]
  },
  {
   "cell_type": "code",
   "execution_count": 6,
   "id": "babe0acf",
   "metadata": {},
   "outputs": [
    {
     "name": "stdout",
     "output_type": "stream",
     "text": [
      "Epoch 1/15\n",
      "540/540 - 7s - loss: 0.2880 - accuracy: 0.9166 - val_loss: 0.1347 - val_accuracy: 0.9603\n",
      "Epoch 2/15\n",
      "540/540 - 5s - loss: 0.0946 - accuracy: 0.9712 - val_loss: 0.0777 - val_accuracy: 0.9760\n",
      "Epoch 3/15\n",
      "540/540 - 5s - loss: 0.0658 - accuracy: 0.9796 - val_loss: 0.0585 - val_accuracy: 0.9808\n",
      "Epoch 4/15\n",
      "540/540 - 5s - loss: 0.0474 - accuracy: 0.9849 - val_loss: 0.0512 - val_accuracy: 0.9847\n",
      "Epoch 5/15\n",
      "540/540 - 5s - loss: 0.0384 - accuracy: 0.9874 - val_loss: 0.0387 - val_accuracy: 0.9897\n",
      "Epoch 6/15\n",
      "540/540 - 5s - loss: 0.0294 - accuracy: 0.9910 - val_loss: 0.0368 - val_accuracy: 0.9898\n",
      "Epoch 7/15\n",
      "540/540 - 5s - loss: 0.0272 - accuracy: 0.9913 - val_loss: 0.0294 - val_accuracy: 0.9915\n",
      "Epoch 8/15\n",
      "540/540 - 5s - loss: 0.0267 - accuracy: 0.9916 - val_loss: 0.0296 - val_accuracy: 0.9915\n"
     ]
    },
    {
     "data": {
      "text/plain": [
       "<tensorflow.python.keras.callbacks.History at 0x1b872aed970>"
      ]
     },
     "execution_count": 6,
     "metadata": {},
     "output_type": "execute_result"
    }
   ],
   "source": [
    "NUM_EPOCHS = 15\n",
    "early_stopping = tf.keras.callbacks.EarlyStopping(patience=1)\n",
    "\n",
    "model.fit(train_data, \n",
    "          epochs=NUM_EPOCHS, \n",
    "          callbacks = [early_stopping],\n",
    "          validation_data=(validation_inputs, validation_targets), \n",
    "          verbose=2)"
   ]
  },
  {
   "cell_type": "markdown",
   "id": "03cd28d9",
   "metadata": {},
   "source": [
    "#### Test the Model"
   ]
  },
  {
   "cell_type": "code",
   "execution_count": 7,
   "id": "af3ebd4a",
   "metadata": {},
   "outputs": [
    {
     "name": "stdout",
     "output_type": "stream",
     "text": [
      "1/1 [==============================] - 1s 580ms/step - loss: 0.0796 - accuracy: 0.9799\n"
     ]
    }
   ],
   "source": [
    "test_loss, test_accuracy = model.evaluate(test_data)"
   ]
  },
  {
   "cell_type": "code",
   "execution_count": 8,
   "id": "45e38299",
   "metadata": {},
   "outputs": [
    {
     "name": "stdout",
     "output_type": "stream",
     "text": [
      "Test loss: 0.08; Test accuracy: 97.99%\n"
     ]
    }
   ],
   "source": [
    "print('Test loss: {0:.2f}; Test accuracy: {1:.2f}%'.format(test_loss,test_accuracy*100))"
   ]
  },
  {
   "cell_type": "code",
   "execution_count": null,
   "id": "3e378680",
   "metadata": {},
   "outputs": [],
   "source": []
  }
 ],
 "metadata": {
  "kernelspec": {
   "display_name": "py3-TF2.0",
   "language": "python",
   "name": "py3-tf2.0"
  },
  "language_info": {
   "codemirror_mode": {
    "name": "ipython",
    "version": 3
   },
   "file_extension": ".py",
   "mimetype": "text/x-python",
   "name": "python",
   "nbconvert_exporter": "python",
   "pygments_lexer": "ipython3",
   "version": "3.9.6"
  }
 },
 "nbformat": 4,
 "nbformat_minor": 5
}
